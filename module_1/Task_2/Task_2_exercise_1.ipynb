{
 "cells": [
  {
   "cell_type": "code",
   "execution_count": null,
   "id": "34948186",
   "metadata": {},
   "outputs": [
    {
     "name": "stderr",
     "output_type": "stream",
     "text": [
      "Matplotlib is building the font cache; this may take a moment.\n"
     ]
    }
   ],
   "source": [
    "# Exercise 1: Line plot of Total Profit\n",
    "import pandas as pd\n",
    "import matplotlib.pyplot as plt"
   ]
  },
  {
   "cell_type": "code",
   "execution_count": 2,
   "id": "4bc495aa",
   "metadata": {},
   "outputs": [],
   "source": [
    "# Load the dataset\n",
    "data = pd.read_csv(\"company_sales_data.csv\")"
   ]
  },
  {
   "cell_type": "code",
   "execution_count": null,
   "id": "a2de6d87",
   "metadata": {},
   "outputs": [],
   "source": [
    "# -------------------------------\n",
    "# Line plot of Total Profit\n",
    "plt.figure(figsize=(10, 6))\n",
    "plt.plot(data['month_number'], data['total_profit'], marker='o', color='b', linestyle='-')\n",
    "plt.title(\"Company Profit Per Month\")\n",
    "plt.xlabel(\"Month Number\")\n",
    "plt.ylabel(\"Total Profit\")\n",
    "plt.grid(True)\n",
    "plt.xticks(data['month_number'])\n",
    "plt.show()"
   ]
  }
 ],
 "metadata": {
  "kernelspec": {
   "display_name": "Python 3",
   "language": "python",
   "name": "python3"
  },
  "language_info": {
   "codemirror_mode": {
    "name": "ipython",
    "version": 3
   },
   "file_extension": ".py",
   "mimetype": "text/x-python",
   "name": "python",
   "nbconvert_exporter": "python",
   "pygments_lexer": "ipython3",
   "version": "3.10.0"
  }
 },
 "nbformat": 4,
 "nbformat_minor": 5
}
