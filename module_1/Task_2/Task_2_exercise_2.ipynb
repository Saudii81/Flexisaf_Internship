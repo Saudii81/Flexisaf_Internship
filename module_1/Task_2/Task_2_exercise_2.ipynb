{
 "cells": [
  {
   "cell_type": "code",
   "execution_count": null,
   "id": "f4d3b619",
   "metadata": {},
   "outputs": [],
   "source": [
    "# Exercise 2: Subplots for Bathing Soap and Facewash\n",
    "import pandas as pd\n",
    "import matplotlib as plt"
   ]
  },
  {
   "cell_type": "code",
   "execution_count": 2,
   "id": "510357da",
   "metadata": {},
   "outputs": [],
   "source": [
    "# import or loads the dataset\n",
    "data = pd.read_csv(\"company_sales_data.csv\")"
   ]
  },
  {
   "cell_type": "code",
   "execution_count": null,
   "id": "595a3742",
   "metadata": {},
   "outputs": [],
   "source": [
    "# -------------------------------\n",
    "\n",
    "# -------------------------------\n",
    "fig, ax = plt.subplots(2, 1, figsize=(10, 8))"
   ]
  }
 ],
 "metadata": {
  "kernelspec": {
   "display_name": "Python 3",
   "language": "python",
   "name": "python3"
  },
  "language_info": {
   "codemirror_mode": {
    "name": "ipython",
    "version": 3
   },
   "file_extension": ".py",
   "mimetype": "text/x-python",
   "name": "python",
   "nbconvert_exporter": "python",
   "pygments_lexer": "ipython3",
   "version": "3.10.0"
  }
 },
 "nbformat": 4,
 "nbformat_minor": 5
}
