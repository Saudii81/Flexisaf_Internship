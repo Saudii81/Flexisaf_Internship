{
 "cells": [
  {
   "cell_type": "code",
   "execution_count": null,
   "id": "f4d3b619",
   "metadata": {},
   "outputs": [],
   "source": [
    "import pandas as pd"
   ]
  },
  {
   "cell_type": "code",
   "execution_count": null,
   "id": "595a3742",
   "metadata": {},
   "outputs": [],
   "source": [
    "# -------------------------------\n",
    "# Exercise 2: Subplots for Bathing Soap and Facewash\n",
    "# -------------------------------\n",
    "fig, ax = plt.subplots(2, 1, figsize=(10, 8))"
   ]
  }
 ],
 "metadata": {
  "language_info": {
   "name": "python"
  }
 },
 "nbformat": 4,
 "nbformat_minor": 5
}
