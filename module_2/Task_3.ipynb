{
  "nbformat": 4,
  "nbformat_minor": 0,
  "metadata": {
    "colab": {
      "provenance": []
    },
    "kernelspec": {
      "name": "python3",
      "display_name": "Python 3"
    },
    "language_info": {
      "name": "python"
    }
  },
  "cells": [
    {
      "cell_type": "code",
      "execution_count": null,
      "metadata": {
        "id": "QHGJkgjZjsAX"
      },
      "outputs": [],
      "source": [
        "# Importing necessary libraries\n",
        "import pandas as pd\n",
        "import numpy as np"
      ]
    },
    {
      "cell_type": "code",
      "source": [
        "# Load a small, publicly available dataset (Iris dataset)\n",
        "url = \"https://raw.githubusercontent.com/mwaskom/seaborn-data/master/iris.csv\"\n",
        "data = pd.read_csv(url)"
      ],
      "metadata": {
        "id": "tSR2oFZXtMtd"
      },
      "execution_count": null,
      "outputs": []
    },
    {
      "cell_type": "markdown",
      "source": [
        "**1. EXPLORE THE DATA**"
      ],
      "metadata": {
        "id": "JTqvfK6H07ov"
      }
    },
    {
      "cell_type": "code",
      "source": [
        "# Print the first few rows\n",
        "print(\"First 5 rows of the dataset:\\n\")\n",
        "print(data.head())\n"
      ],
      "metadata": {
        "colab": {
          "base_uri": "https://localhost:8080/"
        },
        "id": "5CXLblZytRgS",
        "outputId": "78b27bb7-a373-48a2-b611-026bf55b9ddf"
      },
      "execution_count": null,
      "outputs": [
        {
          "output_type": "stream",
          "name": "stdout",
          "text": [
            "First 5 rows of the dataset:\n",
            "\n",
            "   sepal_length  sepal_width  petal_length  petal_width species\n",
            "0           5.1          3.5           1.4          0.2  setosa\n",
            "1           4.9          3.0           1.4          0.2  setosa\n",
            "2           4.7          3.2           1.3          0.2  setosa\n",
            "3           4.6          3.1           1.5          0.2  setosa\n",
            "4           5.0          3.6           1.4          0.2  setosa\n"
          ]
        }
      ]
    },
    {
      "cell_type": "code",
      "source": [
        "# Check data types and non-null counts\n",
        "print(\"\\nDataset Information:\\n\")\n",
        "print(data.info())\n"
      ],
      "metadata": {
        "colab": {
          "base_uri": "https://localhost:8080/"
        },
        "id": "SCmW0lYtthjj",
        "outputId": "d86924bb-7f5e-4a87-bae1-c4b08c044fab"
      },
      "execution_count": null,
      "outputs": [
        {
          "output_type": "stream",
          "name": "stdout",
          "text": [
            "\n",
            "Dataset Information:\n",
            "\n",
            "<class 'pandas.core.frame.DataFrame'>\n",
            "RangeIndex: 150 entries, 0 to 149\n",
            "Data columns (total 5 columns):\n",
            " #   Column        Non-Null Count  Dtype  \n",
            "---  ------        --------------  -----  \n",
            " 0   sepal_length  150 non-null    float64\n",
            " 1   sepal_width   150 non-null    float64\n",
            " 2   petal_length  150 non-null    float64\n",
            " 3   petal_width   150 non-null    float64\n",
            " 4   species       150 non-null    object \n",
            "dtypes: float64(4), object(1)\n",
            "memory usage: 6.0+ KB\n",
            "None\n"
          ]
        }
      ]
    },
    {
      "cell_type": "code",
      "source": [
        "# Get summary statistics for numerical columns\n",
        "print(\"\\nSummary Statistics:\\n\")\n",
        "print(data.describe())"
      ],
      "metadata": {
        "colab": {
          "base_uri": "https://localhost:8080/"
        },
        "id": "vWj9lOlItky6",
        "outputId": "d984086a-3c52-4ebe-d841-73a778b85929"
      },
      "execution_count": null,
      "outputs": [
        {
          "output_type": "stream",
          "name": "stdout",
          "text": [
            "\n",
            "Summary Statistics:\n",
            "\n",
            "       sepal_length  sepal_width  petal_length  petal_width\n",
            "count    150.000000   150.000000    150.000000   150.000000\n",
            "mean       5.843333     3.057333      3.758000     1.199333\n",
            "std        0.828066     0.435866      1.765298     0.762238\n",
            "min        4.300000     2.000000      1.000000     0.100000\n",
            "25%        5.100000     2.800000      1.600000     0.300000\n",
            "50%        5.800000     3.000000      4.350000     1.300000\n",
            "75%        6.400000     3.300000      5.100000     1.800000\n",
            "max        7.900000     4.400000      6.900000     2.500000\n"
          ]
        }
      ]
    },
    {
      "cell_type": "markdown",
      "source": [
        "**2. CALCULATE BASIC STATISTICS**"
      ],
      "metadata": {
        "id": "sNZQ2e3F1HmV"
      }
    },
    {
      "cell_type": "code",
      "source": [
        "# Mean for each numerical column\n",
        "mean_values = data.mean(numeric_only=True)\n",
        "print(\"\\nMean of each numerical feature:\\n\", mean_values)\n"
      ],
      "metadata": {
        "colab": {
          "base_uri": "https://localhost:8080/"
        },
        "id": "XzSF5s8Ntvad",
        "outputId": "67bab454-fd1a-499b-ce27-76261e0c30aa"
      },
      "execution_count": null,
      "outputs": [
        {
          "output_type": "stream",
          "name": "stdout",
          "text": [
            "\n",
            "Mean of each numerical feature:\n",
            " sepal_length    5.843333\n",
            "sepal_width     3.057333\n",
            "petal_length    3.758000\n",
            "petal_width     1.199333\n",
            "dtype: float64\n"
          ]
        }
      ]
    },
    {
      "cell_type": "code",
      "source": [
        "# Median for each numerical column\n",
        "median_values = data.median(numeric_only=True)\n",
        "print(\"\\nMedian of each numerical feature:\\n\", median_values)\n"
      ],
      "metadata": {
        "colab": {
          "base_uri": "https://localhost:8080/"
        },
        "id": "9O0hS-Kttw12",
        "outputId": "03d5d99c-e5dc-479c-8485-77f92d47992e"
      },
      "execution_count": null,
      "outputs": [
        {
          "output_type": "stream",
          "name": "stdout",
          "text": [
            "\n",
            "Median of each numerical feature:\n",
            " sepal_length    5.80\n",
            "sepal_width     3.00\n",
            "petal_length    4.35\n",
            "petal_width     1.30\n",
            "dtype: float64\n"
          ]
        }
      ]
    },
    {
      "cell_type": "code",
      "source": [
        "# Mode for each numerical column\n",
        "mode_values = data.mode(numeric_only=True).iloc[0]\n",
        "print(\"\\nMode of each numerical feature:\\n\", mode_values)"
      ],
      "metadata": {
        "colab": {
          "base_uri": "https://localhost:8080/"
        },
        "id": "rLiPCPgpt81v",
        "outputId": "d539e03c-00e5-484c-c88a-77d5905980aa"
      },
      "execution_count": null,
      "outputs": [
        {
          "output_type": "stream",
          "name": "stdout",
          "text": [
            "\n",
            "Mode of each numerical feature:\n",
            " sepal_length    5.0\n",
            "sepal_width     3.0\n",
            "petal_length    1.4\n",
            "petal_width     0.2\n",
            "Name: 0, dtype: float64\n"
          ]
        }
      ]
    },
    {
      "cell_type": "code",
      "source": [
        "# Standard Deviation for each numerical column\n",
        "std_values = data.std(numeric_only=True)\n",
        "print(\"\\nStandard Deviation of each numerical feature:\\n\", std_values)"
      ],
      "metadata": {
        "colab": {
          "base_uri": "https://localhost:8080/"
        },
        "id": "1NsbKWDIt_OC",
        "outputId": "d5489532-2097-4979-9b57-157c63e8cd5a"
      },
      "execution_count": null,
      "outputs": [
        {
          "output_type": "stream",
          "name": "stdout",
          "text": [
            "\n",
            "Standard Deviation of each numerical feature:\n",
            " sepal_length    0.828066\n",
            "sepal_width     0.435866\n",
            "petal_length    1.765298\n",
            "petal_width     0.762238\n",
            "dtype: float64\n"
          ]
        }
      ]
    },
    {
      "cell_type": "code",
      "source": [
        "# Correlation matrix\n",
        "print(\"\\nCorrelation Between Numerical Features:\\n\")\n",
        "print(data.corr(numeric_only=True))"
      ],
      "metadata": {
        "colab": {
          "base_uri": "https://localhost:8080/"
        },
        "id": "9U0hCFlluBdk",
        "outputId": "a7aa5e1e-3905-4f1b-d7e8-d1a15b60941c"
      },
      "execution_count": null,
      "outputs": [
        {
          "output_type": "stream",
          "name": "stdout",
          "text": [
            "\n",
            "Correlation Between Numerical Features:\n",
            "\n",
            "              sepal_length  sepal_width  petal_length  petal_width\n",
            "sepal_length      1.000000    -0.117570      0.871754     0.817941\n",
            "sepal_width      -0.117570     1.000000     -0.428440    -0.366126\n",
            "petal_length      0.871754    -0.428440      1.000000     0.962865\n",
            "petal_width       0.817941    -0.366126      0.962865     1.000000\n"
          ]
        }
      ]
    }
  ]
}